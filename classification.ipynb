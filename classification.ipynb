{
 "cells": [
  {
   "attachments": {},
   "cell_type": "markdown",
   "metadata": {},
   "source": [
    "## All Imports"
   ]
  },
  {
   "cell_type": "code",
   "execution_count": 1,
   "metadata": {},
   "outputs": [],
   "source": [
    "import torch \n",
    "import torch.nn as nn \n",
    "import torch.nn.functional as F \n",
    "from torchtext.vocab import FastText\n",
    "import spacy \n",
    "\n",
    "import pandas as pd \n",
    "import re \n",
    "from collections import Counter\n",
    "import torch \n",
    "from torch.utils.data import DataLoader, Dataset \n",
    "from sklearn.metrics import accuracy_score \n",
    "import matplotlib.pyplot as plt \n",
    "import torch.optim as optim "
   ]
  },
  {
   "attachments": {},
   "cell_type": "markdown",
   "metadata": {},
   "source": [
    "## Load Spacy and FastText"
   ]
  },
  {
   "cell_type": "code",
   "execution_count": 2,
   "metadata": {},
   "outputs": [],
   "source": [
    "nlp = spacy.load(\"en_core_web_sm\") \n",
    "fasttext = FastText(\"simple\") "
   ]
  },
  {
   "attachments": {},
   "cell_type": "markdown",
   "metadata": {},
   "source": [
    "## Read and Preprocess Data "
   ]
  },
  {
   "cell_type": "code",
   "execution_count": 3,
   "metadata": {},
   "outputs": [],
   "source": [
    "data = pd.read_csv('data/train.csv')\n",
    "data = data.drop('id', axis=1)"
   ]
  },
  {
   "cell_type": "code",
   "execution_count": 4,
   "metadata": {},
   "outputs": [],
   "source": [
    "def preprocessing(data):\n",
    "    data['comment_text'] = data['comment_text'].apply(lambda text: text.lower()) \n",
    "    data['comment_text'] = data['comment_text'].apply(lambda text: text.strip()) \n",
    "    data['comment_text'] = data['comment_text'].apply(lambda text: re.sub('\\n', ' ', text))\n",
    "    data['comment_text'] = data['comment_text'].apply(lambda text: re.sub('\\'', '', text))\n",
    "    data['comment_text'] = data['comment_text'].apply(lambda text: re.sub('\"', '', text))\n",
    "    data['comment_text'] = data['comment_text'].apply(lambda text: re.sub('\" ', '', text))\n",
    "    data['comment_text'] = data['comment_text'].apply(lambda text: re.sub(' \"', '', text))\n",
    "    data['comment_text'] = data['comment_text'].apply(lambda text: re.sub('-', ' ', text))\n",
    "    data['comment_text'] = data['comment_text'].apply(lambda text: re.sub('=', ' ', text))\n",
    "    data['comment_text'] = data['comment_text'].apply(lambda text: re.sub('\\w*\\d\\w*\\*', ' ', text))\n",
    "    data['comment_text'] = data['comment_text'].apply(lambda text: re.sub(r'[^\\x00-\\x7f]', r' ', text)) \n",
    "    data['comment_text'] = data['comment_text'].apply(lambda text: text.strip())\n",
    "    return data \n",
    "\n",
    "data = (preprocessing(data))"
   ]
  },
  {
   "cell_type": "code",
   "execution_count": 6,
   "metadata": {},
   "outputs": [
    {
     "name": "stdout",
     "output_type": "stream",
     "text": [
      "159571\n",
      "(159571, 7)\n"
     ]
    }
   ],
   "source": [
    "print(len(data))\n",
    "print(data.shape)"
   ]
  },
  {
   "attachments": {},
   "cell_type": "markdown",
   "metadata": {},
   "source": [
    "## Shuffle Data"
   ]
  },
  {
   "cell_type": "code",
   "execution_count": 7,
   "metadata": {},
   "outputs": [],
   "source": [
    "def shuffle_data(dataset):\n",
    "    return dataset.sample(frac=1).reset_index(drop=True)\n",
    "\n",
    "data = shuffle_data(data)"
   ]
  },
  {
   "cell_type": "code",
   "execution_count": 8,
   "metadata": {},
   "outputs": [],
   "source": [
    "def data_engineering(data):\n",
    "    column_name, no, yes = [], [], []\n",
    "    for i in data.columns:\n",
    "        if i == 'comment_text':\n",
    "            continue\n",
    "        else:\n",
    "            column_name.append(i),   no.append(data[i].value_counts()[0]),   yes.append(data[i].value_counts()[1])\n",
    "    return column_name, no, yes "
   ]
  },
  {
   "attachments": {},
   "cell_type": "markdown",
   "metadata": {},
   "source": [
    "## Split Data"
   ]
  },
  {
   "cell_type": "code",
   "execution_count": 9,
   "metadata": {},
   "outputs": [],
   "source": [
    "def split_data(data):\n",
    "    data_toxic          = data[['comment_text', 'toxic']]\n",
    "    data_severe_toxic   = data[['comment_text', 'severe_toxic']]\n",
    "    data_obscene        = data[['comment_text', 'obscene']]\n",
    "    data_threat         = data[['comment_text', 'threat']]\n",
    "    data_insult         = data[['comment_text', 'insult']]\n",
    "    data_identity_hate  = data[['comment_text', 'identity_hate']]\n",
    "    return data_toxic, data_severe_toxic, data_obscene, data_threat, data_insult, data_identity_hate \n",
    "\n",
    "data_toxic, data_severe_toxic, data_obscene, data_threat, data_insult, data_identity_hate = split_data(data)"
   ]
  },
  {
   "attachments": {},
   "cell_type": "markdown",
   "metadata": {},
   "source": [
    "## Build Model"
   ]
  },
  {
   "cell_type": "code",
   "execution_count": 10,
   "metadata": {},
   "outputs": [],
   "source": [
    "class ToxicClassifier(nn.Module):\n",
    "     def __init__(self, max_seq_len=32, emb_dim=300, hidden=64):\n",
    "          super(ToxicClassifier, self).__init__()\n",
    "          self.input_layer   = nn.Linear(max_seq_len*emb_dim, hidden)\n",
    "          self.first_hidden  = nn.Linear(hidden, hidden)\n",
    "          self.second_hidden = nn.Linear(hidden, hidden)\n",
    "          self.third_hidden  = nn.Linear(hidden, hidden)\n",
    "\n",
    "          self.output = nn.Linear(hidden, 6)\n",
    "          \n",
    "          self.sigmoid    = nn.Sigmoid()\n",
    "\n",
    "\n",
    "     def forward(self, inputs):\n",
    "          x = F.relu(self.input_layer(inputs.squeeze(1).float()))\n",
    "\n",
    "          x = F.relu(self.first_hidden(x))\n",
    "          x = F.relu(self.first_hidden(x))\n",
    "          x = F.relu(self.second_hidden(x))\n",
    "          x = F.relu(self.third_hidden(x))\n",
    "\n",
    "          output = self.output(x)\n",
    "\n",
    "          return output"
   ]
  },
  {
   "attachments": {},
   "cell_type": "markdown",
   "metadata": {},
   "source": [
    "## Preprocess Functions"
   ]
  },
  {
   "cell_type": "code",
   "execution_count": 11,
   "metadata": {},
   "outputs": [],
   "source": [
    "def token_encoder(token, vec):\n",
    "    if token == \"<pad>\":\n",
    "        return 1\n",
    "    else:\n",
    "        try:\n",
    "            return vec.stoi[token]\n",
    "        except:\n",
    "            return 0"
   ]
  },
  {
   "cell_type": "code",
   "execution_count": 12,
   "metadata": {},
   "outputs": [],
   "source": [
    "def encoder(tokens, vec):\n",
    "    return [token_encoder(token, vec) for token in tokens]"
   ]
  },
  {
   "cell_type": "code",
   "execution_count": 13,
   "metadata": {},
   "outputs": [],
   "source": [
    "def front_padding(list_of_indexes, max_seq_len, padding_index=0):\n",
    "    new_out = (max_seq_len - len(list_of_indexes))*[padding_index] + list_of_indexes\n",
    "    return new_out[:max_seq_len] "
   ]
  },
  {
   "cell_type": "code",
   "execution_count": 14,
   "metadata": {},
   "outputs": [],
   "source": [
    "def preprocessing(sentence):\n",
    "    doc = nlp(sentence)\n",
    "    tokens = [token.lemma_ for token in doc if not token.is_punct and not token.is_stop]\n",
    "    return tokens"
   ]
  },
  {
   "attachments": {},
   "cell_type": "markdown",
   "metadata": {},
   "source": [
    "## Dataset and DataLoader"
   ]
  },
  {
   "cell_type": "code",
   "execution_count": 18,
   "metadata": {},
   "outputs": [],
   "source": [
    "max_seq_length = 50\n",
    "\n",
    "class TrainData(Dataset):\n",
    "    def __init__(self, data, data_target, max_seq_len=max_seq_length): # data is the input data, max_seq_len is the max lenght allowed to a sentence before cutting or padding\n",
    "        self.max_seq_len = max_seq_len\n",
    "        \n",
    "        counter = Counter()\n",
    "        train_iter = iter(data['comment_text'].values)\n",
    "        self.vec = FastText(\"simple\")\n",
    "\n",
    "        self.vec.vectors[1] = -torch.ones(self.vec.vectors[1].shape[0]) # replacing the vector associated with 1 (padded value) to become a vector of -1.\n",
    "        self.vec.vectors[0] = torch.zeros(self.vec.vectors[0].shape[0]) # replacing the vector associated with 0 (unknown) to become zeros\n",
    "        self.vectorizer = lambda x: self.vec.vectors[x]\n",
    "\n",
    "        self.target = data[data_target]\n",
    "        features = [front_padding(encoder(preprocessing(sequence), self.vec), max_seq_len) for sequence in data['comment_text'].tolist()]\n",
    "        self.features = features\n",
    "    \n",
    "    def __len__(self):\n",
    "        return len(self.features)\n",
    "    \n",
    "    def __getitem__(self, i):\n",
    "        assert len(self.features[i]) == self.max_seq_len\n",
    "        return self.features[i], self.target[i]"
   ]
  },
  {
   "attachments": {},
   "cell_type": "markdown",
   "metadata": {},
   "source": [
    "## Inputs"
   ]
  },
  {
   "cell_type": "code",
   "execution_count": 19,
   "metadata": {},
   "outputs": [],
   "source": [
    "length_of_data = 159571 \n",
    "max_seq_length = 64 \n",
    "idx = int(0.7 * length_of_data)"
   ]
  },
  {
   "attachments": {},
   "cell_type": "markdown",
   "metadata": {},
   "source": [
    "## Datasets and DataLoader"
   ]
  },
  {
   "cell_type": "code",
   "execution_count": 20,
   "metadata": {},
   "outputs": [],
   "source": [
    "columns_names = ['toxic', 'severe_toxic', 'obscene', 'threat', 'insult', 'identity_hate']\n",
    "data_toxic, data_severe_toxic, data_obscene, data_threat, data_insult, data_identity_hate = split_data(data)  \n",
    "\n",
    "train_data_toxic = data_toxic.iloc[ : 2000 ].reset_index(drop=True)\n",
    "test_data_toxic  = data_toxic.iloc[2000 : 3000 ].reset_index(drop=True)\n",
    "\n",
    "dataset_train = TrainData(train_data_toxic, data_target='identity_hate', max_seq_len=max_seq_length)\n",
    "dataset_test  = TrainData(test_data_toxic,  data_target='identity_hate', max_seq_len=max_seq_length)"
   ]
  },
  {
   "attachments": {},
   "cell_type": "markdown",
   "metadata": {},
   "source": [
    "## Collation"
   ]
  },
  {
   "cell_type": "code",
   "execution_count": 21,
   "metadata": {},
   "outputs": [],
   "source": [
    "def collation_train(batch, vectorizer=dataset_train.vectorizer):\n",
    "    inputs = torch.stack([torch.stack([vectorizer(token) for token in sentence[0]]) for sentence in batch])\n",
    "    target = torch.LongTensor([item[1] for item in batch]) \n",
    "    return inputs, target\n",
    "\n",
    "def collation_test(batch, vectorizer=dataset_test.vectorizer):\n",
    "    inputs = torch.stack([torch.stack([vectorizer(token) for token in sentence[0]]) for sentence in batch])\n",
    "    target = torch.LongTensor([item[1] for item in batch]) \n",
    "    return inputs, target\n",
    "\n",
    "train_loader = DataLoader(dataset_train, batch_size=32, collate_fn=collation_train)\n",
    "test_loader  = DataLoader(dataset_test,  batch_size=32, collate_fn=collation_test)"
   ]
  },
  {
   "attachments": {},
   "cell_type": "markdown",
   "metadata": {},
   "source": [
    "## Model, Loss Function, and Activation Function"
   ]
  },
  {
   "cell_type": "code",
   "execution_count": 22,
   "metadata": {},
   "outputs": [],
   "source": [
    "emb_dim = 300\n",
    "\n",
    "model = ToxicClassifier(max_seq_len=max_seq_length, emb_dim=emb_dim, hidden=32)\n",
    "criterion = nn.CrossEntropyLoss()\n",
    "optimizer = optim.Adam(model.parameters(), lr=0.003)"
   ]
  },
  {
   "attachments": {},
   "cell_type": "markdown",
   "metadata": {},
   "source": [
    "## Training"
   ]
  },
  {
   "cell_type": "code",
   "execution_count": 23,
   "metadata": {},
   "outputs": [
    {
     "name": "stdout",
     "output_type": "stream",
     "text": [
      "Epoch  :   1/30    |   Train Loss:  : 0.39339850     |  Test Loss:  : 0.06110165  |  Accuracy  :   0.9922\n",
      "Epoch  :   2/30    |   Train Loss:  : 0.05531279     |  Test Loss:  : 0.05237641  |  Accuracy  :   0.9922\n",
      "Epoch  :   3/30    |   Train Loss:  : 0.02891417     |  Test Loss:  : 0.05465348  |  Accuracy  :   0.9922\n",
      "Epoch  :   4/30    |   Train Loss:  : 0.00443527     |  Test Loss:  : 0.09936310  |  Accuracy  :   0.9912\n",
      "Epoch  :   5/30    |   Train Loss:  : 0.00163278     |  Test Loss:  : 0.11759304  |  Accuracy  :   0.9912\n",
      "Epoch  :   6/30    |   Train Loss:  : 0.00127468     |  Test Loss:  : 0.13349925  |  Accuracy  :   0.9912\n",
      "Epoch  :   7/30    |   Train Loss:  : 0.00107359     |  Test Loss:  : 0.15706843  |  Accuracy  :   0.9922\n",
      "Epoch  :   8/30    |   Train Loss:  : 0.00123596     |  Test Loss:  : 0.14293428  |  Accuracy  :   0.9912\n",
      "Epoch  :   9/30    |   Train Loss:  : 0.00103215     |  Test Loss:  : 0.17126348  |  Accuracy  :   0.9922\n",
      "Epoch  :  10/30    |   Train Loss:  : 0.00093929     |  Test Loss:  : 0.17717444  |  Accuracy  :   0.9922\n",
      "Epoch  :  11/30    |   Train Loss:  : 0.00088305     |  Test Loss:  : 0.19942652  |  Accuracy  :   0.9922\n",
      "Epoch  :  12/30    |   Train Loss:  : 0.00082857     |  Test Loss:  : 0.21261479  |  Accuracy  :   0.9922\n",
      "Epoch  :  13/30    |   Train Loss:  : 0.00081874     |  Test Loss:  : 0.22618658  |  Accuracy  :   0.9922\n",
      "Epoch  :  14/30    |   Train Loss:  : 0.00081085     |  Test Loss:  : 0.23702271  |  Accuracy  :   0.9922\n",
      "Epoch  :  15/30    |   Train Loss:  : 0.00080727     |  Test Loss:  : 0.24675604  |  Accuracy  :   0.9922\n",
      "Epoch  :  16/30    |   Train Loss:  : 0.00080286     |  Test Loss:  : 0.25344353  |  Accuracy  :   0.9922\n",
      "Epoch  :  17/30    |   Train Loss:  : 0.00080328     |  Test Loss:  : 0.25542896  |  Accuracy  :   0.9922\n",
      "Epoch  :  18/30    |   Train Loss:  : 0.00079981     |  Test Loss:  : 0.26302196  |  Accuracy  :   0.9922\n",
      "Epoch  :  19/30    |   Train Loss:  : 0.00079949     |  Test Loss:  : 0.26660040  |  Accuracy  :   0.9922\n",
      "Epoch  :  20/30    |   Train Loss:  : 0.00079153     |  Test Loss:  : 0.26988605  |  Accuracy  :   0.9922\n",
      "Epoch  :  21/30    |   Train Loss:  : 0.00079211     |  Test Loss:  : 0.27559865  |  Accuracy  :   0.9922\n",
      "Epoch  :  22/30    |   Train Loss:  : 0.00078768     |  Test Loss:  : 0.27831999  |  Accuracy  :   0.9922\n",
      "Epoch  :  23/30    |   Train Loss:  : 0.00078613     |  Test Loss:  : 0.28195818  |  Accuracy  :   0.9922\n",
      "Epoch  :  24/30    |   Train Loss:  : 0.00078363     |  Test Loss:  : 0.28200381  |  Accuracy  :   0.9922\n",
      "Epoch  :  25/30    |   Train Loss:  : 0.00078468     |  Test Loss:  : 0.28955557  |  Accuracy  :   0.9922\n",
      "Epoch  :  26/30    |   Train Loss:  : 0.00077458     |  Test Loss:  : 0.28822589  |  Accuracy  :   0.9922\n",
      "Epoch  :  27/30    |   Train Loss:  : 0.00077665     |  Test Loss:  : 0.29238475  |  Accuracy  :   0.9922\n",
      "Epoch  :  28/30    |   Train Loss:  : 0.00077334     |  Test Loss:  : 0.29393553  |  Accuracy  :   0.9922\n",
      "Epoch  :  29/30    |   Train Loss:  : 0.00077244     |  Test Loss:  : 0.29614938  |  Accuracy  :   0.9922\n",
      "Epoch  :  30/30    |   Train Loss:  : 0.00077060     |  Test Loss:  : 0.29778985  |  Accuracy  :   0.9922\n"
     ]
    }
   ],
   "source": [
    "\n",
    "epochs = 30\n",
    "all_train_losses, all_test_losses, all_accuracies = [],  [], []\n",
    "\n",
    "for e in range(epochs):\n",
    "     train_losses, test_losses, running_accuracy = 0, 0, 0\n",
    "\n",
    "     for i, (sentences_train, labels_train) in enumerate(iter(train_loader)):\n",
    "          # print(sentences_train.shape)\n",
    "          sentences_train.resize_(sentences_train.size()[0], max_seq_length * emb_dim)\n",
    "\n",
    "          optimizer.zero_grad()\n",
    "          prediction_train = model.forward(sentences_train)   \n",
    "          loss_train = criterion(prediction_train, labels_train) \n",
    "          loss_train.backward()                  \n",
    "          optimizer.step()                \n",
    "\n",
    "          train_losses += loss_train.item()\n",
    "     \n",
    "     avg_train_loss = train_losses/len(train_loader)\n",
    "     all_train_losses.append(avg_train_loss)\n",
    "\n",
    "\n",
    "     model.eval()\n",
    "     with torch.no_grad():\n",
    "          for i, (sentences_test, labels_test) in enumerate(iter(test_loader)):\n",
    "               sentences_test.resize_(sentences_test.size()[0], max_seq_length * emb_dim)\n",
    "\n",
    "               prediction_test = model.forward(sentences_test) \n",
    "               loss_test = criterion(prediction_test, labels_test) \n",
    "\n",
    "               test_losses += loss_test.item()\n",
    "\n",
    "\n",
    "               prediction_class = torch.argmax(prediction_test, dim=1)\n",
    "               running_accuracy += accuracy_score(labels_test, prediction_class)\n",
    "          \n",
    "          avg_test_loss = test_losses/len(test_loader)\n",
    "          all_test_losses.append(avg_test_loss)\n",
    "\n",
    "          avg_running_accuracy = running_accuracy/len(test_loader)\n",
    "          all_accuracies.append(avg_running_accuracy)\n",
    "\n",
    "\n",
    "     model.train()\n",
    "\n",
    "\n",
    "     print(f'Epoch  : {e+1:3}/{epochs}    |   Train Loss:  : {avg_train_loss:.8f}     |  Test Loss:  : {avg_test_loss:.8f}  |  Accuracy  :   {avg_running_accuracy:.4f}')\n",
    "\n",
    "torch.save({ \"model_state\": model.state_dict(), 'max_seq_len' : 64, 'emb_dim' : 64, 'hidden1' : 32, 'hidden2' : 32}, 'trained_models/trained_model_TOXIC')\n",
    "\n"
   ]
  },
  {
   "attachments": {},
   "cell_type": "markdown",
   "metadata": {},
   "source": [
    "## Plot Training Results"
   ]
  },
  {
   "cell_type": "code",
   "execution_count": 24,
   "metadata": {},
   "outputs": [
    {
     "data": {
      "image/png": "[encoded data removed]",
      "text/plain": [
       "<Figure size 640x480 with 1 Axes>"
      ]
     },
     "metadata": {},
     "output_type": "display_data"
    }
   ],
   "source": [
    "plt.plot(all_train_losses, label='Train Loss')\n",
    "plt.plot(all_test_losses,  label='Test Loss')\n",
    "plt.plot(all_accuracies,   label='Accuracy')\n",
    "\n",
    "plt.legend()\n",
    "plt.show() "
   ]
  },
  {
   "attachments": {},
   "cell_type": "markdown",
   "metadata": {},
   "source": [
    "## Predictions"
   ]
  },
  {
   "cell_type": "code",
   "execution_count": 42,
   "metadata": {},
   "outputs": [
    {
     "name": "stdout",
     "output_type": "stream",
     "text": [
      "TOXIC          |SEVERE_TOXIC   |OBSCENE        |THREAT         |INSULT         |IDENTITY_HATE\n",
      "---------------|---------------|---------------|---------------|---------------|---------------\n",
      "False          |False          |False          |False          |False          |False          \n"
     ]
    }
   ],
   "source": [
    "import torch \n",
    "from helper_functions import ToxicClassifier, token_encoder, encoder, front_padding, preprocessing, nlp, fasttext\n",
    "import numpy as np \n",
    "\n",
    "max_seq_length, emb_dim = 64, 300\n",
    "model = ToxicClassifier()\n",
    "\n",
    "train_modeled = torch.load('trained_models/trained_all_model')\n",
    "model_state = train_modeled['model_state']\n",
    "model = ToxicClassifier(max_seq_len=max_seq_length, emb_dim=emb_dim, hidden=64)\n",
    "model.load_state_dict(model_state)\n",
    "\n",
    "\n",
    "comment = 'Do something about him. He constantly blames me of vandalism, even though I have not done such.  See the current version of the Battle of Budapest article.'\n",
    "comment = 'The WaPo article says, in effect, that a Fed hate crime prosecution would require a racial motivation, but if Brown had been white shooting at him when fleeing would still have been an intentional attempt to deprive him of his civil rights, per Garner. Are you saying there is no Federal statute that allows the DOJ to prosecute him for this, despite the Constitutional violation?'\n",
    "comment = \"He said he's WORKING ON IT, The Rouge Penguin, have some patience, Don't be an asshole.\"\n",
    "\n",
    "\n",
    "features = front_padding(encoder(preprocessing(comment), fasttext), max_seq_length) \n",
    "\n",
    "embeddings = [fasttext.vectors[el] for el in features]\n",
    "\n",
    "inputs = torch.stack(  embeddings )\n",
    "\n",
    "\n",
    "model.eval()\n",
    "with torch.no_grad():\n",
    "    prediction = model.forward(inputs.flatten().unsqueeze(1))\n",
    "    probability_test = torch.sigmoid(prediction)\n",
    "    classes = probability_test > 0.5\n",
    "\n",
    "pred = np.array(classes)\n",
    "    \n",
    "\n",
    "toxic, severe_toxic, obscene, threat, insult, identity_hate, space = 'TOXIC', 'SEVERE_TOXIC', 'OBSCENE', 'THREAT', 'INSULT', 'IDENTITY_HATE', '---------------'\n",
    "\n",
    "print(f'{toxic:15}|{severe_toxic:15}|{obscene:15}|{threat:15}|{insult:15}|{identity_hate}')\n",
    "print(f\"{space:15}|{space:15}|{  space:15}|{  space:15}|{  space:15}|{  space:15}\")\n",
    "print(f\"{str(pred[0]):15}|{str(pred[1]):15}|{  str(pred[2]):15}|{  str(pred[3]):15}|{  str(pred[4]):15}|{  str(pred[5]):15}\")"
   ]
  }
 ],
 "metadata": {
  "kernelspec": {
   "display_name": "deeplearning",
   "language": "python",
   "name": "python3"
  },
  "language_info": {
   "codemirror_mode": {
    "name": "ipython",
    "version": 3
   },
   "file_extension": ".py",
   "mimetype": "text/x-python",
   "name": "python",
   "nbconvert_exporter": "python",
   "pygments_lexer": "ipython3",
   "version": "3.8.13"
  },
  "orig_nbformat": 4
 },
 "nbformat": 4,
 "nbformat_minor": 2
}
